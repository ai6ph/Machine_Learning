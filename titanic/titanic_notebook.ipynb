{
  "nbformat": 4,
  "nbformat_minor": 0,
  "metadata": {
    "colab": {
      "name": "titanic_notebook.ipynb",
      "provenance": [],
      "collapsed_sections": []
    },
    "kernelspec": {
      "name": "python3",
      "display_name": "Python 3"
    }
  },
  "cells": [
    {
      "cell_type": "markdown",
      "metadata": {
        "id": "vewBaD993yb6",
        "colab_type": "text"
      },
      "source": [
        "## **Titanic: Machine Learning from Disaster**\n",
        "\n",
        "\n",
        "This notebook is meant to guide us through exploratory data analysis and how to build a machine learning model using the famous Titanic dataset sourced from [Kaggle ](https://www.kaggle.com/c/titanic).\n",
        "\n",
        "Here, we will be predicting the survival of titanic passengers.\n",
        "\n",
        "The dataset provides information on passengers such as class, age, sex and survival.\n",
        "\n",
        "We'll be taking the following steps:\n",
        "0. Loading our data\n",
        "1. Exploratory data analysis\n",
        "2. Data visualization\n",
        "3. Data Preprocessing\n",
        "4. Building our machine learning model"
      ]
    },
    {
      "cell_type": "markdown",
      "metadata": {
        "id": "oyMNvy4gQ6Zl",
        "colab_type": "text"
      },
      "source": [
        "Feel free to edit the sections as you please and check out the solutions notebook."
      ]
    },
    {
      "cell_type": "code",
      "metadata": {
        "id": "chnuVWR-2J_H",
        "colab_type": "code",
        "colab": {}
      },
      "source": [
        "#Import our libraries\n",
        "import numpy as np #linear algebra\n",
        "import pandas as pd #data processing\n",
        "\n",
        "#for data visualization\n",
        "%matplotlib inline\n",
        "import matplotlib.pyplot as plt\n",
        "import matplotlib.style\n",
        "\n",
        "import seaborn as sns"
      ],
      "execution_count": 0,
      "outputs": []
    },
    {
      "cell_type": "markdown",
      "metadata": {
        "id": "vgZ74Qiw6EtE",
        "colab_type": "text"
      },
      "source": [
        "**0. Load the data**\n",
        "\n",
        "You can load the data directly from Kaggle or download and load from your local storage, GitHub or Google Drive."
      ]
    },
    {
      "cell_type": "code",
      "metadata": {
        "id": "1pw3L8Om6Yji",
        "colab_type": "code",
        "outputId": "9dfc3115-080e-487a-9330-54d2f90776ab",
        "colab": {
          "base_uri": "https://localhost:8080/",
          "height": 34
        }
      },
      "source": [
        "#since we're using Google Colab, we mount drive first\n",
        "from google.colab import drive\n",
        "drive.mount('/content/gdrive')"
      ],
      "execution_count": 49,
      "outputs": [
        {
          "output_type": "stream",
          "text": [
            "Drive already mounted at /content/gdrive; to attempt to forcibly remount, call drive.mount(\"/content/gdrive\", force_remount=True).\n"
          ],
          "name": "stdout"
        }
      ]
    },
    {
      "cell_type": "code",
      "metadata": {
        "id": "-ub7jVIT6nOg",
        "colab_type": "code",
        "colab": {}
      },
      "source": [
        "#load the file path\n",
        "test_data_path = '/content/gdrive/My Drive/titanic/titanic/test.csv'\n",
        "train_data_path = '/content/gdrive/My Drive/titanic/titanic/train.csv'\n",
        "\n",
        "#Use pandas to read what's in it\n",
        "test_data = pd.read_csv(test_data_path)\n",
        "train_data = pd.read_csv(train_data_path)"
      ],
      "execution_count": 0,
      "outputs": []
    },
    {
      "cell_type": "code",
      "metadata": {
        "id": "Q7tzy-R88EvA",
        "colab_type": "code",
        "outputId": "79756fc9-f13a-4954-96f0-9abebdde016e",
        "colab": {
          "base_uri": "https://localhost:8080/",
          "height": 340
        }
      },
      "source": [
        "#Now we explore what's in our dataset\n",
        "train_data.info()"
      ],
      "execution_count": 51,
      "outputs": [
        {
          "output_type": "stream",
          "text": [
            "<class 'pandas.core.frame.DataFrame'>\n",
            "RangeIndex: 891 entries, 0 to 890\n",
            "Data columns (total 12 columns):\n",
            " #   Column       Non-Null Count  Dtype  \n",
            "---  ------       --------------  -----  \n",
            " 0   PassengerId  891 non-null    int64  \n",
            " 1   Survived     891 non-null    int64  \n",
            " 2   Pclass       891 non-null    int64  \n",
            " 3   Name         891 non-null    object \n",
            " 4   Sex          891 non-null    object \n",
            " 5   Age          714 non-null    float64\n",
            " 6   SibSp        891 non-null    int64  \n",
            " 7   Parch        891 non-null    int64  \n",
            " 8   Ticket       891 non-null    object \n",
            " 9   Fare         891 non-null    float64\n",
            " 10  Cabin        204 non-null    object \n",
            " 11  Embarked     889 non-null    object \n",
            "dtypes: float64(2), int64(5), object(5)\n",
            "memory usage: 83.7+ KB\n"
          ],
          "name": "stdout"
        }
      ]
    },
    {
      "cell_type": "markdown",
      "metadata": {
        "id": "2fUd2Hmx-LVU",
        "colab_type": "text"
      },
      "source": [
        "*From the above tells us the training set contains data on 891 passengers and 11 features (class, name, sex, etc)*\n",
        "\n",
        "**PassengerId:** Id of each passenger \n",
        "\n",
        "**Survived:** Labelled 0 and 1 (dead and alive)\n",
        "\n",
        "**Pclass:** Passenger's class\n",
        "\n",
        "**Name:** Name of passenger\n",
        "\n",
        "**Sex:** Gender\n",
        "\n",
        "**Age:** Age\n",
        "\n",
        "**SibSp:** Number of siblings / spouses on the Titanic\n",
        "\n",
        "**Parch:** Number of parents / children on the Titanic\n",
        "\n",
        "**Ticket:** Ticket number\n",
        "\n",
        "**Fare:** Passenger's fare\n",
        "\n",
        "**Cabin:** Cabin number\n",
        "\n",
        "**Embarked:** Port of embarkation"
      ]
    },
    {
      "cell_type": "code",
      "metadata": {
        "id": "qrBb7S8o8O_1",
        "colab_type": "code",
        "outputId": "97a45315-6b5c-472c-bc71-ec34cfd55751",
        "colab": {
          "base_uri": "https://localhost:8080/",
          "height": 297
        }
      },
      "source": [
        "train_data.describe()"
      ],
      "execution_count": 52,
      "outputs": [
        {
          "output_type": "execute_result",
          "data": {
            "text/html": [
              "<div>\n",
              "<style scoped>\n",
              "    .dataframe tbody tr th:only-of-type {\n",
              "        vertical-align: middle;\n",
              "    }\n",
              "\n",
              "    .dataframe tbody tr th {\n",
              "        vertical-align: top;\n",
              "    }\n",
              "\n",
              "    .dataframe thead th {\n",
              "        text-align: right;\n",
              "    }\n",
              "</style>\n",
              "<table border=\"1\" class=\"dataframe\">\n",
              "  <thead>\n",
              "    <tr style=\"text-align: right;\">\n",
              "      <th></th>\n",
              "      <th>PassengerId</th>\n",
              "      <th>Survived</th>\n",
              "      <th>Pclass</th>\n",
              "      <th>Age</th>\n",
              "      <th>SibSp</th>\n",
              "      <th>Parch</th>\n",
              "      <th>Fare</th>\n",
              "    </tr>\n",
              "  </thead>\n",
              "  <tbody>\n",
              "    <tr>\n",
              "      <th>count</th>\n",
              "      <td>891.000000</td>\n",
              "      <td>891.000000</td>\n",
              "      <td>891.000000</td>\n",
              "      <td>714.000000</td>\n",
              "      <td>891.000000</td>\n",
              "      <td>891.000000</td>\n",
              "      <td>891.000000</td>\n",
              "    </tr>\n",
              "    <tr>\n",
              "      <th>mean</th>\n",
              "      <td>446.000000</td>\n",
              "      <td>0.383838</td>\n",
              "      <td>2.308642</td>\n",
              "      <td>29.699118</td>\n",
              "      <td>0.523008</td>\n",
              "      <td>0.381594</td>\n",
              "      <td>32.204208</td>\n",
              "    </tr>\n",
              "    <tr>\n",
              "      <th>std</th>\n",
              "      <td>257.353842</td>\n",
              "      <td>0.486592</td>\n",
              "      <td>0.836071</td>\n",
              "      <td>14.526497</td>\n",
              "      <td>1.102743</td>\n",
              "      <td>0.806057</td>\n",
              "      <td>49.693429</td>\n",
              "    </tr>\n",
              "    <tr>\n",
              "      <th>min</th>\n",
              "      <td>1.000000</td>\n",
              "      <td>0.000000</td>\n",
              "      <td>1.000000</td>\n",
              "      <td>0.420000</td>\n",
              "      <td>0.000000</td>\n",
              "      <td>0.000000</td>\n",
              "      <td>0.000000</td>\n",
              "    </tr>\n",
              "    <tr>\n",
              "      <th>25%</th>\n",
              "      <td>223.500000</td>\n",
              "      <td>0.000000</td>\n",
              "      <td>2.000000</td>\n",
              "      <td>20.125000</td>\n",
              "      <td>0.000000</td>\n",
              "      <td>0.000000</td>\n",
              "      <td>7.910400</td>\n",
              "    </tr>\n",
              "    <tr>\n",
              "      <th>50%</th>\n",
              "      <td>446.000000</td>\n",
              "      <td>0.000000</td>\n",
              "      <td>3.000000</td>\n",
              "      <td>28.000000</td>\n",
              "      <td>0.000000</td>\n",
              "      <td>0.000000</td>\n",
              "      <td>14.454200</td>\n",
              "    </tr>\n",
              "    <tr>\n",
              "      <th>75%</th>\n",
              "      <td>668.500000</td>\n",
              "      <td>1.000000</td>\n",
              "      <td>3.000000</td>\n",
              "      <td>38.000000</td>\n",
              "      <td>1.000000</td>\n",
              "      <td>0.000000</td>\n",
              "      <td>31.000000</td>\n",
              "    </tr>\n",
              "    <tr>\n",
              "      <th>max</th>\n",
              "      <td>891.000000</td>\n",
              "      <td>1.000000</td>\n",
              "      <td>3.000000</td>\n",
              "      <td>80.000000</td>\n",
              "      <td>8.000000</td>\n",
              "      <td>6.000000</td>\n",
              "      <td>512.329200</td>\n",
              "    </tr>\n",
              "  </tbody>\n",
              "</table>\n",
              "</div>"
            ],
            "text/plain": [
              "       PassengerId    Survived      Pclass  ...       SibSp       Parch        Fare\n",
              "count   891.000000  891.000000  891.000000  ...  891.000000  891.000000  891.000000\n",
              "mean    446.000000    0.383838    2.308642  ...    0.523008    0.381594   32.204208\n",
              "std     257.353842    0.486592    0.836071  ...    1.102743    0.806057   49.693429\n",
              "min       1.000000    0.000000    1.000000  ...    0.000000    0.000000    0.000000\n",
              "25%     223.500000    0.000000    2.000000  ...    0.000000    0.000000    7.910400\n",
              "50%     446.000000    0.000000    3.000000  ...    0.000000    0.000000   14.454200\n",
              "75%     668.500000    1.000000    3.000000  ...    1.000000    0.000000   31.000000\n",
              "max     891.000000    1.000000    3.000000  ...    8.000000    6.000000  512.329200\n",
              "\n",
              "[8 rows x 7 columns]"
            ]
          },
          "metadata": {
            "tags": []
          },
          "execution_count": 52
        }
      ]
    },
    {
      "cell_type": "markdown",
      "metadata": {
        "id": "tWnHsittAorS",
        "colab_type": "text"
      },
      "source": [
        "*From above we see that in the training-set, 38% survived.*\n",
        "\n",
        "*We also notice that some features containing missing values, like range as it's minimum value is 0.4.*"
      ]
    },
    {
      "cell_type": "code",
      "metadata": {
        "id": "xolBHuGQ9r67",
        "colab_type": "code",
        "outputId": "a02a50c4-109a-457c-d0c3-ae5164a48bb9",
        "colab": {
          "base_uri": "https://localhost:8080/",
          "height": 235
        }
      },
      "source": [
        "#let's view the first 6 values of the dataset\n",
        "train_data.head(6)"
      ],
      "execution_count": 53,
      "outputs": [
        {
          "output_type": "execute_result",
          "data": {
            "text/html": [
              "<div>\n",
              "<style scoped>\n",
              "    .dataframe tbody tr th:only-of-type {\n",
              "        vertical-align: middle;\n",
              "    }\n",
              "\n",
              "    .dataframe tbody tr th {\n",
              "        vertical-align: top;\n",
              "    }\n",
              "\n",
              "    .dataframe thead th {\n",
              "        text-align: right;\n",
              "    }\n",
              "</style>\n",
              "<table border=\"1\" class=\"dataframe\">\n",
              "  <thead>\n",
              "    <tr style=\"text-align: right;\">\n",
              "      <th></th>\n",
              "      <th>PassengerId</th>\n",
              "      <th>Survived</th>\n",
              "      <th>Pclass</th>\n",
              "      <th>Name</th>\n",
              "      <th>Sex</th>\n",
              "      <th>Age</th>\n",
              "      <th>SibSp</th>\n",
              "      <th>Parch</th>\n",
              "      <th>Ticket</th>\n",
              "      <th>Fare</th>\n",
              "      <th>Cabin</th>\n",
              "      <th>Embarked</th>\n",
              "    </tr>\n",
              "  </thead>\n",
              "  <tbody>\n",
              "    <tr>\n",
              "      <th>0</th>\n",
              "      <td>1</td>\n",
              "      <td>0</td>\n",
              "      <td>3</td>\n",
              "      <td>Braund, Mr. Owen Harris</td>\n",
              "      <td>male</td>\n",
              "      <td>22.0</td>\n",
              "      <td>1</td>\n",
              "      <td>0</td>\n",
              "      <td>A/5 21171</td>\n",
              "      <td>7.2500</td>\n",
              "      <td>NaN</td>\n",
              "      <td>S</td>\n",
              "    </tr>\n",
              "    <tr>\n",
              "      <th>1</th>\n",
              "      <td>2</td>\n",
              "      <td>1</td>\n",
              "      <td>1</td>\n",
              "      <td>Cumings, Mrs. John Bradley (Florence Briggs Th...</td>\n",
              "      <td>female</td>\n",
              "      <td>38.0</td>\n",
              "      <td>1</td>\n",
              "      <td>0</td>\n",
              "      <td>PC 17599</td>\n",
              "      <td>71.2833</td>\n",
              "      <td>C85</td>\n",
              "      <td>C</td>\n",
              "    </tr>\n",
              "    <tr>\n",
              "      <th>2</th>\n",
              "      <td>3</td>\n",
              "      <td>1</td>\n",
              "      <td>3</td>\n",
              "      <td>Heikkinen, Miss. Laina</td>\n",
              "      <td>female</td>\n",
              "      <td>26.0</td>\n",
              "      <td>0</td>\n",
              "      <td>0</td>\n",
              "      <td>STON/O2. 3101282</td>\n",
              "      <td>7.9250</td>\n",
              "      <td>NaN</td>\n",
              "      <td>S</td>\n",
              "    </tr>\n",
              "    <tr>\n",
              "      <th>3</th>\n",
              "      <td>4</td>\n",
              "      <td>1</td>\n",
              "      <td>1</td>\n",
              "      <td>Futrelle, Mrs. Jacques Heath (Lily May Peel)</td>\n",
              "      <td>female</td>\n",
              "      <td>35.0</td>\n",
              "      <td>1</td>\n",
              "      <td>0</td>\n",
              "      <td>113803</td>\n",
              "      <td>53.1000</td>\n",
              "      <td>C123</td>\n",
              "      <td>S</td>\n",
              "    </tr>\n",
              "    <tr>\n",
              "      <th>4</th>\n",
              "      <td>5</td>\n",
              "      <td>0</td>\n",
              "      <td>3</td>\n",
              "      <td>Allen, Mr. William Henry</td>\n",
              "      <td>male</td>\n",
              "      <td>35.0</td>\n",
              "      <td>0</td>\n",
              "      <td>0</td>\n",
              "      <td>373450</td>\n",
              "      <td>8.0500</td>\n",
              "      <td>NaN</td>\n",
              "      <td>S</td>\n",
              "    </tr>\n",
              "    <tr>\n",
              "      <th>5</th>\n",
              "      <td>6</td>\n",
              "      <td>0</td>\n",
              "      <td>3</td>\n",
              "      <td>Moran, Mr. James</td>\n",
              "      <td>male</td>\n",
              "      <td>NaN</td>\n",
              "      <td>0</td>\n",
              "      <td>0</td>\n",
              "      <td>330877</td>\n",
              "      <td>8.4583</td>\n",
              "      <td>NaN</td>\n",
              "      <td>Q</td>\n",
              "    </tr>\n",
              "  </tbody>\n",
              "</table>\n",
              "</div>"
            ],
            "text/plain": [
              "   PassengerId  Survived  Pclass  ...     Fare Cabin  Embarked\n",
              "0            1         0       3  ...   7.2500   NaN         S\n",
              "1            2         1       1  ...  71.2833   C85         C\n",
              "2            3         1       3  ...   7.9250   NaN         S\n",
              "3            4         1       1  ...  53.1000  C123         S\n",
              "4            5         0       3  ...   8.0500   NaN         S\n",
              "5            6         0       3  ...   8.4583   NaN         Q\n",
              "\n",
              "[6 rows x 12 columns]"
            ]
          },
          "metadata": {
            "tags": []
          },
          "execution_count": 53
        }
      ]
    },
    {
      "cell_type": "markdown",
      "metadata": {
        "id": "0In785hzBqBU",
        "colab_type": "text"
      },
      "source": [
        "*From above, we can notice that some data is missing (NaN).*\n",
        "\n",
        "Let's see what's missing:"
      ]
    },
    {
      "cell_type": "code",
      "metadata": {
        "id": "U5u3b7c0CZa0",
        "colab_type": "code",
        "outputId": "b3f21425-b4c5-49c1-83d0-d66e4e998661",
        "colab": {
          "base_uri": "https://localhost:8080/",
          "height": 204
        }
      },
      "source": [
        "total = train_data.isnull().sum().sort_values(ascending=False)\n",
        "percent_1 = train_data.isnull().sum()/train_data.isnull().count()*100\n",
        "percent_2 = (round(percent_1, 1)).sort_values(ascending=False)\n",
        "missing_data = pd.concat([total, percent_2], axis=1, keys=['Total', '%'])\n",
        "missing_data.head(5)"
      ],
      "execution_count": 54,
      "outputs": [
        {
          "output_type": "execute_result",
          "data": {
            "text/html": [
              "<div>\n",
              "<style scoped>\n",
              "    .dataframe tbody tr th:only-of-type {\n",
              "        vertical-align: middle;\n",
              "    }\n",
              "\n",
              "    .dataframe tbody tr th {\n",
              "        vertical-align: top;\n",
              "    }\n",
              "\n",
              "    .dataframe thead th {\n",
              "        text-align: right;\n",
              "    }\n",
              "</style>\n",
              "<table border=\"1\" class=\"dataframe\">\n",
              "  <thead>\n",
              "    <tr style=\"text-align: right;\">\n",
              "      <th></th>\n",
              "      <th>Total</th>\n",
              "      <th>%</th>\n",
              "    </tr>\n",
              "  </thead>\n",
              "  <tbody>\n",
              "    <tr>\n",
              "      <th>Cabin</th>\n",
              "      <td>687</td>\n",
              "      <td>77.1</td>\n",
              "    </tr>\n",
              "    <tr>\n",
              "      <th>Age</th>\n",
              "      <td>177</td>\n",
              "      <td>19.9</td>\n",
              "    </tr>\n",
              "    <tr>\n",
              "      <th>Embarked</th>\n",
              "      <td>2</td>\n",
              "      <td>0.2</td>\n",
              "    </tr>\n",
              "    <tr>\n",
              "      <th>Fare</th>\n",
              "      <td>0</td>\n",
              "      <td>0.0</td>\n",
              "    </tr>\n",
              "    <tr>\n",
              "      <th>Ticket</th>\n",
              "      <td>0</td>\n",
              "      <td>0.0</td>\n",
              "    </tr>\n",
              "  </tbody>\n",
              "</table>\n",
              "</div>"
            ],
            "text/plain": [
              "          Total     %\n",
              "Cabin       687  77.1\n",
              "Age         177  19.9\n",
              "Embarked      2   0.2\n",
              "Fare          0   0.0\n",
              "Ticket        0   0.0"
            ]
          },
          "metadata": {
            "tags": []
          },
          "execution_count": 54
        }
      ]
    },
    {
      "cell_type": "markdown",
      "metadata": {
        "id": "24p_i0gtCnmv",
        "colab_type": "text"
      },
      "source": [
        "*We realize that Age has 177 missing values, embarked has 2 missing values while cabin has 687 missing values (which we are going to have to drop since 77% of it missing).*"
      ]
    },
    {
      "cell_type": "markdown",
      "metadata": {
        "id": "Ehf7eWY5WJVO",
        "colab_type": "text"
      },
      "source": [
        "Now we ask ourselves, what features could contribute to a high survival rate?"
      ]
    },
    {
      "cell_type": "code",
      "metadata": {
        "id": "Y83R1-Um93fr",
        "colab_type": "code",
        "outputId": "87f69fa2-6654-4dfa-faa3-827371a43656",
        "colab": {
          "base_uri": "https://localhost:8080/",
          "height": 51
        }
      },
      "source": [
        "train_data.columns.values"
      ],
      "execution_count": 55,
      "outputs": [
        {
          "output_type": "execute_result",
          "data": {
            "text/plain": [
              "array(['PassengerId', 'Survived', 'Pclass', 'Name', 'Sex', 'Age', 'SibSp',\n",
              "       'Parch', 'Ticket', 'Fare', 'Cabin', 'Embarked'], dtype=object)"
            ]
          },
          "metadata": {
            "tags": []
          },
          "execution_count": 55
        }
      ]
    },
    {
      "cell_type": "markdown",
      "metadata": {
        "id": "fKT6QygNwvDE",
        "colab_type": "text"
      },
      "source": [
        "Let's calculate the percentage of women that survived."
      ]
    },
    {
      "cell_type": "code",
      "metadata": {
        "id": "nrGvm1esw7mg",
        "colab_type": "code",
        "outputId": "5bf32bc2-0b9e-4140-9ab6-bfb2be385ad1",
        "colab": {
          "base_uri": "https://localhost:8080/",
          "height": 34
        }
      },
      "source": [
        "women = train_data.loc[train_data.Sex == 'female'][\"Survived\"]\n",
        "rate_women = sum(women)/len(women)\n",
        "\n",
        "print(\"% of women who survived:\", rate_women)"
      ],
      "execution_count": 56,
      "outputs": [
        {
          "output_type": "stream",
          "text": [
            "% of women who survived: 0.7420382165605095\n"
          ],
          "name": "stdout"
        }
      ]
    },
    {
      "cell_type": "markdown",
      "metadata": {
        "id": "nf-mXQXTxDez",
        "colab_type": "text"
      },
      "source": [
        "*Here we see that about 75% of the women survived.*"
      ]
    },
    {
      "cell_type": "markdown",
      "metadata": {
        "id": "T7gycCggxK1y",
        "colab_type": "text"
      },
      "source": [
        "Let's calculate the percentage of men that survived."
      ]
    },
    {
      "cell_type": "code",
      "metadata": {
        "id": "P_5l55wUxOzh",
        "colab_type": "code",
        "outputId": "fafca45a-9a1c-401a-ee29-bc430a25ef95",
        "colab": {
          "base_uri": "https://localhost:8080/",
          "height": 34
        }
      },
      "source": [
        "men = train_data.loc[train_data.Sex == 'male'][\"Survived\"]\n",
        "rate_men = sum(men)/len(men)\n",
        "\n",
        "print(\"% of men who survived:\", rate_men)"
      ],
      "execution_count": 57,
      "outputs": [
        {
          "output_type": "stream",
          "text": [
            "% of men who survived: 0.18890814558058924\n"
          ],
          "name": "stdout"
        }
      ]
    },
    {
      "cell_type": "markdown",
      "metadata": {
        "id": "VCz9mv5NxZz5",
        "colab_type": "text"
      },
      "source": [
        "*Here we see that about 18% of the men survived.*"
      ]
    },
    {
      "cell_type": "markdown",
      "metadata": {
        "id": "b7W3ucK_telM",
        "colab_type": "text"
      },
      "source": [
        "***Let's look at age and sex***"
      ]
    },
    {
      "cell_type": "code",
      "metadata": {
        "id": "AiM6kkjSt-DN",
        "colab_type": "code",
        "outputId": "41d7b59f-7c05-4972-a073-2e60a10f9194",
        "colab": {
          "base_uri": "https://localhost:8080/",
          "height": 295
        }
      },
      "source": [
        "survived = 'survived'\n",
        "not_survived = 'not survived'\n",
        "fig, axes = plt.subplots(nrows=1, ncols=2,figsize=(10, 4))\n",
        "women = train_data[train_data['Sex']=='female']\n",
        "men = train_data[train_data['Sex']=='male']\n",
        "ax = sns.distplot(women[women['Survived']==1].Age.dropna(), bins=18, label = survived, ax = axes[0], kde =False)\n",
        "ax = sns.distplot(women[women['Survived']==0].Age.dropna(), bins=40, label = not_survived, ax = axes[0], kde =False)\n",
        "ax.legend()\n",
        "ax.set_title('Female')\n",
        "ax = sns.distplot(men[men['Survived']==1].Age.dropna(), bins=18, label = survived, ax = axes[1], kde = False)\n",
        "ax = sns.distplot(men[men['Survived']==0].Age.dropna(), bins=40, label = not_survived, ax = axes[1], kde = False)\n",
        "ax.legend()\n",
        "_ = ax.set_title('Male')"
      ],
      "execution_count": 58,
      "outputs": [
        {
          "output_type": "display_data",
          "data": {
            "image/png": "[encoded data removed]",
            "text/plain": [
              "<Figure size 720x288 with 2 Axes>"
            ]
          },
          "metadata": {
            "tags": [],
            "needs_background": "light"
          }
        }
      ]
    },
    {
      "cell_type": "markdown",
      "metadata": {
        "id": "aHaK6HPavQ-r",
        "colab_type": "text"
      },
      "source": [
        "*We see that men have a high probability of survival between the ages of 18 - 30 years old and low between 5 and 18.*\n",
        "\n",
        "*For women, the survival chances  are higher between 14 and 40.*\n",
        "\n"
      ]
    },
    {
      "cell_type": "markdown",
      "metadata": {
        "id": "GPkqkTZnybIp",
        "colab_type": "text"
      },
      "source": [
        "***Let's see if there's any correlation between ports embarked and survival***"
      ]
    },
    {
      "cell_type": "code",
      "metadata": {
        "id": "0v1NtFHzyoLG",
        "colab_type": "code",
        "outputId": "4754cc63-3611-4a40-d435-885c52f32955",
        "colab": {
          "base_uri": "https://localhost:8080/",
          "height": 1000
        }
      },
      "source": [
        "FacetGrid = sns.FacetGrid(train_data, row='Embarked', size=4.5, aspect=1.6)\n",
        "FacetGrid.map(sns.pointplot, 'Survived', 'Sex', palette=None,  order=None, hue_order=None )\n",
        "FacetGrid.add_legend()"
      ],
      "execution_count": 59,
      "outputs": [
        {
          "output_type": "stream",
          "text": [
            "/usr/local/lib/python3.6/dist-packages/seaborn/axisgrid.py:243: UserWarning: The `size` parameter has been renamed to `height`; please update your code.\n",
            "  warnings.warn(msg, UserWarning)\n"
          ],
          "name": "stderr"
        },
        {
          "output_type": "execute_result",
          "data": {
            "text/plain": [
              "<seaborn.axisgrid.FacetGrid at 0x7f202e5e3a20>"
            ]
          },
          "metadata": {
            "tags": []
          },
          "execution_count": 59
        },
        {
          "output_type": "display_data",
          "data": {
            "image/png": "[encoded data removed]",
            "text/plain": [
              "<Figure size 526.4x972 with 3 Axes>"
            ]
          },
          "metadata": {
            "tags": [],
            "needs_background": "light"
          }
        }
      ]
    },
    {
      "cell_type": "markdown",
      "metadata": {
        "id": "BFr32TbHy8A3",
        "colab_type": "text"
      },
      "source": [
        "*Here, we notice the port they embark from seems to be correlated to survival.*\n",
        "\n",
        "*Men have a high probability of survival if they were on Port C (Cherbourg), but a low probability if they were on S (Southampton) and Q (Queenstown).*\n",
        "\n",
        "*Women have a high probability of survival if they were on port Q and S compared to port C.*"
      ]
    },
    {
      "cell_type": "markdown",
      "metadata": {
        "id": "zljeHu9_3WWa",
        "colab_type": "text"
      },
      "source": [
        "***Let's see if `Pclass` shows any correlation with survival***"
      ]
    },
    {
      "cell_type": "code",
      "metadata": {
        "id": "z-pCAG594Ald",
        "colab_type": "code",
        "outputId": "2553604b-6965-4c69-e9a1-752f84ee57a2",
        "colab": {
          "base_uri": "https://localhost:8080/",
          "height": 296
        }
      },
      "source": [
        "sns.barplot(x='Pclass', y='Survived', data=train_data)"
      ],
      "execution_count": 60,
      "outputs": [
        {
          "output_type": "execute_result",
          "data": {
            "text/plain": [
              "<matplotlib.axes._subplots.AxesSubplot at 0x7f2028291a90>"
            ]
          },
          "metadata": {
            "tags": []
          },
          "execution_count": 60
        },
        {
          "output_type": "display_data",
          "data": {
            "image/png": "[encoded data removed]",
            "text/plain": [
              "<Figure size 432x288 with 1 Axes>"
            ]
          },
          "metadata": {
            "tags": [],
            "needs_background": "light"
          }
        }
      ]
    },
    {
      "cell_type": "markdown",
      "metadata": {
        "id": "kU4ynj4o58ya",
        "colab_type": "text"
      },
      "source": [
        "*Here, we see that people in class 1 had higher chances of survival compared to people in classes 2 and 3*"
      ]
    },
    {
      "cell_type": "markdown",
      "metadata": {
        "id": "0rQuVkDCRvqv",
        "colab_type": "text"
      },
      "source": [
        "You can try out more visualizations."
      ]
    },
    {
      "cell_type": "markdown",
      "metadata": {
        "id": "NEOLEZU68fz7",
        "colab_type": "text"
      },
      "source": [
        "**Data Preprocessing**\n",
        "\n",
        "Here, we will be dropping categories we don't need, creating new ones, converting features (from floats and objects to int64), etc so we can get started on building our model.\n",
        "\n",
        "***Let's drop the `PassengerId`  from the training set since it does not contribute to a person's survival probability.***"
      ]
    },
    {
      "cell_type": "code",
      "metadata": {
        "id": "--n0mz_J9AmA",
        "colab_type": "code",
        "colab": {}
      },
      "source": [
        "train_data = train_data.drop(['PassengerId'], axis=1)"
      ],
      "execution_count": 0,
      "outputs": []
    },
    {
      "cell_type": "markdown",
      "metadata": {
        "id": "lCnwCPfs8l3E",
        "colab_type": "text"
      },
      "source": [
        "***Let's also drop Cabin since it has a lot of missing values.***"
      ]
    },
    {
      "cell_type": "code",
      "metadata": {
        "id": "63bvr9FP-fPh",
        "colab_type": "code",
        "colab": {}
      },
      "source": [
        "train_data = train_data.drop(['Cabin'], axis=1)"
      ],
      "execution_count": 0,
      "outputs": []
    },
    {
      "cell_type": "markdown",
      "metadata": {
        "id": "WevtgCmW-rjx",
        "colab_type": "text"
      },
      "source": [
        "***Since `Age `has missing values, let's create an array that will fill the empty values with random values based on mean and standard deviation of the column.***"
      ]
    },
    {
      "cell_type": "code",
      "metadata": {
        "id": "ddK49ic__P1T",
        "colab_type": "code",
        "outputId": "8f1d4ae7-e5c3-49f6-f88d-c069d207c57e",
        "colab": {
          "base_uri": "https://localhost:8080/",
          "height": 34
        }
      },
      "source": [
        "data = [train_data, test_data]\n",
        "\n",
        "for dataset in data:\n",
        "    mean = train_data[\"Age\"].mean()\n",
        "    std = test_data[\"Age\"].std()\n",
        "    is_null = dataset[\"Age\"].isnull().sum()\n",
        "    # compute random numbers between the mean, std and is_null\n",
        "    rand_age = np.random.randint(mean - std, mean + std, size = is_null)\n",
        "    # fill NaN values in Age column with random values generated\n",
        "    age_slice = dataset[\"Age\"].copy()\n",
        "    age_slice[np.isnan(age_slice)] = rand_age\n",
        "    dataset[\"Age\"] = age_slice\n",
        "    dataset[\"Age\"] = train_data[\"Age\"].astype(int)\n",
        "train_data[\"Age\"].isnull().sum()"
      ],
      "execution_count": 63,
      "outputs": [
        {
          "output_type": "execute_result",
          "data": {
            "text/plain": [
              "0"
            ]
          },
          "metadata": {
            "tags": []
          },
          "execution_count": 63
        }
      ]
    },
    {
      "cell_type": "markdown",
      "metadata": {
        "id": "pWUVRZkQ_oo8",
        "colab_type": "text"
      },
      "source": [
        "***Since `Embarked` has just 2 missing values, we'll replace the empty values with the mode (most common values).***"
      ]
    },
    {
      "cell_type": "code",
      "metadata": {
        "id": "jGN55iPT_8GY",
        "colab_type": "code",
        "colab": {}
      },
      "source": [
        "embarked_mode = train_data['Embarked'].mode()\n",
        "data = [train_data, test_data]\n",
        "for dataset in data:\n",
        "    dataset['Embarked'] = dataset['Embarked'].fillna(embarked_mode)"
      ],
      "execution_count": 0,
      "outputs": []
    },
    {
      "cell_type": "markdown",
      "metadata": {
        "id": "roc5FFWZKF9R",
        "colab_type": "text"
      },
      "source": [
        "***Converting Features:***"
      ]
    },
    {
      "cell_type": "code",
      "metadata": {
        "id": "0iuSVbRgKSQT",
        "colab_type": "code",
        "outputId": "7f6c1ade-b04a-4fcd-8173-76715a3e164b",
        "colab": {
          "base_uri": "https://localhost:8080/",
          "height": 306
        }
      },
      "source": [
        "train_data.info()"
      ],
      "execution_count": 65,
      "outputs": [
        {
          "output_type": "stream",
          "text": [
            "<class 'pandas.core.frame.DataFrame'>\n",
            "RangeIndex: 891 entries, 0 to 890\n",
            "Data columns (total 10 columns):\n",
            " #   Column    Non-Null Count  Dtype  \n",
            "---  ------    --------------  -----  \n",
            " 0   Survived  891 non-null    int64  \n",
            " 1   Pclass    891 non-null    int64  \n",
            " 2   Name      891 non-null    object \n",
            " 3   Sex       891 non-null    object \n",
            " 4   Age       891 non-null    int64  \n",
            " 5   SibSp     891 non-null    int64  \n",
            " 6   Parch     891 non-null    int64  \n",
            " 7   Ticket    891 non-null    object \n",
            " 8   Fare      891 non-null    float64\n",
            " 9   Embarked  889 non-null    object \n",
            "dtypes: float64(1), int64(5), object(4)\n",
            "memory usage: 69.7+ KB\n"
          ],
          "name": "stdout"
        }
      ]
    },
    {
      "cell_type": "markdown",
      "metadata": {
        "id": "72CEq__xKYAf",
        "colab_type": "text"
      },
      "source": [
        "We see ```Fare``` is a float. We have to convert it from float to int64 using ```astype()``` function.\n",
        "\n"
      ]
    },
    {
      "cell_type": "code",
      "metadata": {
        "id": "HBuHKMjAKtLn",
        "colab_type": "code",
        "colab": {}
      },
      "source": [
        "data = [train_data, test_data]\n",
        "\n",
        "for dataset in data:\n",
        "    dataset['Fare'] = dataset['Fare'].fillna(0)\n",
        "    dataset['Fare'] = dataset['Fare'].astype(int)"
      ],
      "execution_count": 0,
      "outputs": []
    },
    {
      "cell_type": "code",
      "metadata": {
        "id": "4-I922qpLRtl",
        "colab_type": "code",
        "outputId": "4621d4d2-e8b3-4b81-a9c1-622eb0e54f70",
        "colab": {
          "base_uri": "https://localhost:8080/",
          "height": 306
        }
      },
      "source": [
        "train_data.info()"
      ],
      "execution_count": 67,
      "outputs": [
        {
          "output_type": "stream",
          "text": [
            "<class 'pandas.core.frame.DataFrame'>\n",
            "RangeIndex: 891 entries, 0 to 890\n",
            "Data columns (total 10 columns):\n",
            " #   Column    Non-Null Count  Dtype \n",
            "---  ------    --------------  ----- \n",
            " 0   Survived  891 non-null    int64 \n",
            " 1   Pclass    891 non-null    int64 \n",
            " 2   Name      891 non-null    object\n",
            " 3   Sex       891 non-null    object\n",
            " 4   Age       891 non-null    int64 \n",
            " 5   SibSp     891 non-null    int64 \n",
            " 6   Parch     891 non-null    int64 \n",
            " 7   Ticket    891 non-null    object\n",
            " 8   Fare      891 non-null    int64 \n",
            " 9   Embarked  889 non-null    object\n",
            "dtypes: int64(6), object(4)\n",
            "memory usage: 69.7+ KB\n"
          ],
          "name": "stdout"
        }
      ]
    },
    {
      "cell_type": "markdown",
      "metadata": {
        "id": "m-cZcBLDBlsp",
        "colab_type": "text"
      },
      "source": [
        "There are more preprocessing techniques you can try out on your own to boost the accuracy of your model.\n",
        "\n",
        "You can go further to convert categorical variables into [dummy variables](https://en.m.wikipedia.org/wiki/Dummy_variable_(statistics)), create new categories, drop columns you feel aren't useful, etc."
      ]
    },
    {
      "cell_type": "markdown",
      "metadata": {
        "id": "5w0hOgU4DElV",
        "colab_type": "text"
      },
      "source": [
        "**Building Machine Learning Models**\n",
        "\n",
        "This is a classification problem since our required output variable is a category such as orange or yellow, spam or not spam, benign or malignant, in this case, 1 (alive) or 0 (dead).\n",
        "\n",
        "There are several classification models some of which are:\n",
        "\n",
        "\n",
        "*   Decision Trees\n",
        "*   Linear Classifiers such as: Logistic Regression, Naive Bayes\n",
        "*   Random Forest\n",
        "*   Nearest Neighbor, etc.\n",
        "\n",
        "\n",
        "\n",
        "\n",
        "\n",
        "\n",
        "\n"
      ]
    },
    {
      "cell_type": "markdown",
      "metadata": {
        "id": "p5XqrSCkFoy8",
        "colab_type": "text"
      },
      "source": [
        "Let's try **Logistic Regression**"
      ]
    },
    {
      "cell_type": "code",
      "metadata": {
        "id": "e2-tSuaHJVoK",
        "colab_type": "code",
        "colab": {}
      },
      "source": [
        "from sklearn.linear_model import LogisticRegression"
      ],
      "execution_count": 0,
      "outputs": []
    },
    {
      "cell_type": "code",
      "metadata": {
        "id": "mvzipSyAJOke",
        "colab_type": "code",
        "colab": {}
      },
      "source": [
        "X_train = train_data.drop(\"Survived\", axis=1)\n",
        "Y_train = train_data[\"Survived\"]\n",
        "X_test  = test_data.drop(\"PassengerId\", axis=1).copy()"
      ],
      "execution_count": 0,
      "outputs": []
    },
    {
      "cell_type": "code",
      "metadata": {
        "id": "ZgD5VLMUFg-j",
        "colab_type": "code",
        "outputId": "b77b0f00-788c-4806-a23b-0c05e073c95c",
        "colab": {
          "base_uri": "https://localhost:8080/",
          "height": 54
        }
      },
      "source": [
        "\"\"\"\n",
        "# Instantiate our model\n",
        "logreg = LogisticRegression(max_iter = 4000)\n",
        "# Fit our model to the training data\n",
        "logreg.fit(X_train, Y_train)\n",
        "# Predict on the test data\n",
        "logreg_predictions = logreg.predict(X_test)\n",
        "\n",
        "\n",
        "logreg_data = pd.read_csv(test_data_path)\n",
        "logreg_data.insert((logreg_data.shape[1]),'Survived',logreg_predictions)\n",
        "\n",
        "#logreg_data.to_csv('my_model.csv')\n",
        "print(logreg_data)\n",
        "\n",
        "#to calculate the accuracy of our model\n",
        "acc_log = round(logreg.score(X_train, Y_train) * 100,2)\n",
        "\n",
        "\"\"\""
      ],
      "execution_count": 70,
      "outputs": [
        {
          "output_type": "execute_result",
          "data": {
            "text/plain": [
              "\"\\n# Instantiate our model\\nlogreg = LogisticRegression(max_iter = 4000)\\n# Fit our model to the training data\\nlogreg.fit(X_train, Y_train)\\n# Predict on the test data\\nlogreg_predictions = logreg.predict(X_test)\\n\\n\\nlogreg_data = pd.read_csv(test_data_path)\\nlogreg_data.insert((logreg_data.shape[1]),'Survived',logreg_predictions)\\n\\n#logreg_data.to_csv('my_model.csv')\\nprint(logreg_data)\\n\\n#to calculate the accuracy of our model\\nacc_log = round(logreg.score(X_train, Y_train) * 100,2)\\n\\n\""
            ]
          },
          "metadata": {
            "tags": []
          },
          "execution_count": 70
        }
      ]
    },
    {
      "cell_type": "markdown",
      "metadata": {
        "id": "enjjs7tgTuo4",
        "colab_type": "text"
      },
      "source": [
        "***Check model accuracy***"
      ]
    },
    {
      "cell_type": "code",
      "metadata": {
        "id": "p1e6tdECTyZs",
        "colab_type": "code",
        "colab": {
          "base_uri": "https://localhost:8080/",
          "height": 34
        },
        "outputId": "47ffb77e-95d1-4f27-f93f-b9a0898237fe"
      },
      "source": [
        "\"\"\" \n",
        "print(f\"Accuracy: {acc_log}\")\n",
        "\"\"\""
      ],
      "execution_count": 71,
      "outputs": [
        {
          "output_type": "execute_result",
          "data": {
            "text/plain": [
              "' \\nprint(f\"Accuracy: {acc_log}\")\\n'"
            ]
          },
          "metadata": {
            "tags": []
          },
          "execution_count": 71
        }
      ]
    },
    {
      "cell_type": "markdown",
      "metadata": {
        "id": "IrFFEDkjAyql",
        "colab_type": "text"
      },
      "source": [
        "**References:**\n",
        "\n",
        "[This will help you score 95 percentile in the Kaggle Titanic ML competition](https://medium.com/@praveen.orvakanti/this-will-help-you-score-95-percentile-in-the-kaggle-titanic-ml-competition-aa2b3fd1b79b//)\n",
        "\n",
        "[Predicting the Survival of Titanic Passengers](https://towardsdatascience.com/predicting-the-survival-of-titanic-passengers-30870ccc7e8)\n",
        "\n"
      ]
    }
  ]
}